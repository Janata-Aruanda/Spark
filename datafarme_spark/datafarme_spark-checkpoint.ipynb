{
 "cells": [
  {
   "cell_type": "markdown",
   "id": "dfde8d8a",
   "metadata": {},
   "source": [
    "# Spark\n",
    "Olá, sou Janatã Aruanda, estou treinando e aprendendo coisa novas no spark, deixarei tudo explicado nos notebook. "
   ]
  },
  {
   "cell_type": "markdown",
   "id": "809ba8a3",
   "metadata": {},
   "source": [
    "# As importações do spark e algumas bibliotecaas"
   ]
  },
  {
   "cell_type": "code",
   "execution_count": 1,
   "id": "042084f1",
   "metadata": {},
   "outputs": [],
   "source": [
    "# Importando findspark\n",
    "import findspark"
   ]
  },
  {
   "cell_type": "code",
   "execution_count": 2,
   "id": "49a37900",
   "metadata": {},
   "outputs": [],
   "source": [
    "# Initialize and provide path\n",
    "findspark.init(\"C:\\spark-3.2.2-bin-hadoop2.7\")"
   ]
  },
  {
   "cell_type": "code",
   "execution_count": 3,
   "id": "04243c4a",
   "metadata": {},
   "outputs": [],
   "source": [
    "# Import SparkSession\n",
    "from pyspark.sql import SparkSession\n",
    "from pyspark.sql import functions as F\n",
    "from pyspark.sql.types import *\n",
    "\n",
    "spark = SparkSession.builder.getOrCreate()"
   ]
  },
  {
   "cell_type": "markdown",
   "id": "cbaa8546",
   "metadata": {},
   "source": [
    "# Parte do datafarme e as manipulações "
   ]
  },
  {
   "cell_type": "code",
   "execution_count": 7,
   "id": "6fcd0ceb",
   "metadata": {},
   "outputs": [],
   "source": [
    "#Criando um schema para o cabeçãho do datafarme\n",
    "arqschema = \"id INT, nome STRING, status STRING, cidade STRING, vendas INT, data STRING\""
   ]
  },
  {
   "cell_type": "code",
   "execution_count": 168,
   "id": "78238661",
   "metadata": {},
   "outputs": [],
   "source": [
    "# lendo o arquivos e passando parametros (passando o parametro do schema do cabeçalho)\n",
    "df = spark.read.csv(r'C:\\Users\\Janatã\\Desktop\\Aula_spark\\download\\despachantes.csv', header = 'False', schema = arqschema )"
   ]
  },
  {
   "cell_type": "code",
   "execution_count": 85,
   "id": "56c9715b",
   "metadata": {},
   "outputs": [
    {
     "data": {
      "text/plain": [
       "['id', 'nome', 'status', 'cidade', 'vendas', 'data']"
      ]
     },
     "execution_count": 85,
     "metadata": {},
     "output_type": "execute_result"
    }
   ],
   "source": [
    "#Imprimento os nome das colunas \n",
    "df.columns"
   ]
  },
  {
   "cell_type": "code",
   "execution_count": 86,
   "id": "6a15dbf9",
   "metadata": {},
   "outputs": [
    {
     "data": {
      "text/plain": [
       "StructType(List(StructField(id,IntegerType,true),StructField(nome,StringType,true),StructField(status,StringType,true),StructField(cidade,StringType,true),StructField(vendas,IntegerType,true),StructField(data,StringType,true)))"
      ]
     },
     "execution_count": 86,
     "metadata": {},
     "output_type": "execute_result"
    }
   ],
   "source": [
    "#Uma das formas de listar o schema do datafarme\n",
    "df.schema"
   ]
  },
  {
   "cell_type": "code",
   "execution_count": 87,
   "id": "d6e49189",
   "metadata": {},
   "outputs": [
    {
     "name": "stdout",
     "output_type": "stream",
     "text": [
      "+---+-------------------+------+\n",
      "| id|               nome|vendas|\n",
      "+---+-------------------+------+\n",
      "|  1|   Carminda Pestana|    23|\n",
      "|  2|    Deolinda Vilela|    34|\n",
      "|  3|   Emídio Dornelles|    34|\n",
      "|  4|Felisbela Dornelles|    36|\n",
      "|  6|   Matilde Rebouças|    22|\n",
      "|  7|    Noêmia   Orriça|    45|\n",
      "|  8|      Roque Vásquez|    65|\n",
      "|  9|      Uriel Queiroz|    54|\n",
      "+---+-------------------+------+\n",
      "\n"
     ]
    }
   ],
   "source": [
    "#Selecionaodo algumas colunas e passando um parametro com o Where (Forma de \"calculo\")  maior >\n",
    "df.select('id','nome','vendas').where(F.col('vendas') > 20 ).show()"
   ]
  },
  {
   "cell_type": "code",
   "execution_count": 88,
   "id": "3d00f9fd",
   "metadata": {},
   "outputs": [
    {
     "name": "stdout",
     "output_type": "stream",
     "text": [
      "+---+-------------------+------+\n",
      "| id|               nome|vendas|\n",
      "+---+-------------------+------+\n",
      "|  1|   Carminda Pestana|    23|\n",
      "|  2|    Deolinda Vilela|    34|\n",
      "|  3|   Emídio Dornelles|    34|\n",
      "|  4|Felisbela Dornelles|    36|\n",
      "|  6|   Matilde Rebouças|    22|\n",
      "+---+-------------------+------+\n",
      "\n"
     ]
    }
   ],
   "source": [
    "#Selecionaodo algumas colunas e passando um parametro com o Where (Forma de \"calculo\")   (maior > & menor <)\n",
    "\n",
    "df.select('id','nome','vendas').where((F.col('vendas') > 20 ) & (F.col('vendas') < 40)).show()"
   ]
  },
  {
   "cell_type": "markdown",
   "id": "33fa1226",
   "metadata": {},
   "source": [
    "O campo Data veio com String, irei fazer uma manipulação para alterar o tipo(type)"
   ]
  },
  {
   "cell_type": "code",
   "execution_count": 170,
   "id": "367a8bf3",
   "metadata": {},
   "outputs": [
    {
     "name": "stdout",
     "output_type": "stream",
     "text": [
      "root\n",
      " |-- id: integer (nullable = true)\n",
      " |-- nome: string (nullable = true)\n",
      " |-- status: string (nullable = true)\n",
      " |-- cidade: string (nullable = true)\n",
      " |-- vendas: integer (nullable = true)\n",
      " |-- data: string (nullable = true)\n",
      "\n"
     ]
    }
   ],
   "source": [
    "# Uma das forma de imprimir o schema do datafarme \n",
    "\n",
    "df.printSchema()"
   ]
  },
  {
   "cell_type": "code",
   "execution_count": 171,
   "id": "b7e2fcf0",
   "metadata": {},
   "outputs": [],
   "source": [
    "#mudando o tipo(type) da coluna data para (Date)\n",
    "df = df.withColumn('data', F.to_date(F.col('data'), 'yyyy-MM-dd'))"
   ]
  },
  {
   "cell_type": "markdown",
   "id": "a27ccfa1",
   "metadata": {},
   "source": [
    "Estou imprimindo o schema do Datafarme e observa a coluna 'data' está alterado para date"
   ]
  },
  {
   "cell_type": "code",
   "execution_count": 173,
   "id": "7ebcaace",
   "metadata": {},
   "outputs": [
    {
     "name": "stdout",
     "output_type": "stream",
     "text": [
      "root\n",
      " |-- id: integer (nullable = true)\n",
      " |-- nome: string (nullable = true)\n",
      " |-- status: string (nullable = true)\n",
      " |-- cidade: string (nullable = true)\n",
      " |-- vendas: integer (nullable = true)\n",
      " |-- data: date (nullable = true)\n",
      "\n"
     ]
    }
   ],
   "source": [
    "df.printSchema()"
   ]
  },
  {
   "cell_type": "code",
   "execution_count": 164,
   "id": "64322524",
   "metadata": {},
   "outputs": [
    {
     "name": "stdout",
     "output_type": "stream",
     "text": [
      "+----------+\n",
      "|year(data)|\n",
      "+----------+\n",
      "|      2020|\n",
      "|      2020|\n",
      "|      2020|\n",
      "|      2020|\n",
      "|      2020|\n",
      "|      2019|\n",
      "|      2019|\n",
      "|      2020|\n",
      "|      2018|\n",
      "|      2020|\n",
      "+----------+\n",
      "\n"
     ]
    }
   ],
   "source": [
    "#Selecionado o ano da coluna Data\n",
    "df.select(F.year('data')).show()"
   ]
  },
  {
   "cell_type": "code",
   "execution_count": 94,
   "id": "b0e69dbc",
   "metadata": {},
   "outputs": [
    {
     "name": "stdout",
     "output_type": "stream",
     "text": [
      "+----------+\n",
      "|year(data)|\n",
      "+----------+\n",
      "|      2018|\n",
      "|      2019|\n",
      "|      2020|\n",
      "+----------+\n",
      "\n"
     ]
    }
   ],
   "source": [
    "#Selecionado o ano da coluna 'Data' e passando o distinct \n",
    "df.select(F.year('data')).distinct().show()"
   ]
  },
  {
   "cell_type": "code",
   "execution_count": 96,
   "id": "24e8cd4e",
   "metadata": {},
   "outputs": [
    {
     "name": "stdout",
     "output_type": "stream",
     "text": [
      "+-------------------+----------+\n",
      "|               nome|year(data)|\n",
      "+-------------------+----------+\n",
      "|   Carminda Pestana|      2020|\n",
      "|    Deolinda Vilela|      2020|\n",
      "|   Emídio Dornelles|      2020|\n",
      "|Felisbela Dornelles|      2020|\n",
      "|     Graça Ornellas|      2020|\n",
      "|   Matilde Rebouças|      2019|\n",
      "|    Noêmia   Orriça|      2019|\n",
      "|      Roque Vásquez|      2020|\n",
      "|      Uriel Queiroz|      2018|\n",
      "|   Viviana Sequeira|      2020|\n",
      "+-------------------+----------+\n",
      "\n"
     ]
    }
   ],
   "source": [
    "#Selecionado o ano da coluna 'Data' e passando o (orderBy) para ordenar com nome \n",
    "df.select('nome', F.year('data')).orderBy('nome').show()"
   ]
  },
  {
   "cell_type": "code",
   "execution_count": 98,
   "id": "6d584548",
   "metadata": {},
   "outputs": [
    {
     "name": "stdout",
     "output_type": "stream",
     "text": [
      "+----------+-----+\n",
      "|year(data)|count|\n",
      "+----------+-----+\n",
      "|      2018|    1|\n",
      "|      2019|    2|\n",
      "|      2020|    7|\n",
      "+----------+-----+\n",
      "\n"
     ]
    }
   ],
   "source": [
    "#Contando (Count) quantas vezes aparece o ano \n",
    "df.select(F.col(\"data\")).groupBy(F.year(\"data\")).count().show()"
   ]
  },
  {
   "cell_type": "code",
   "execution_count": 99,
   "id": "78e0fbd8",
   "metadata": {},
   "outputs": [
    {
     "name": "stdout",
     "output_type": "stream",
     "text": [
      "+-----------+\n",
      "|sum(vendas)|\n",
      "+-----------+\n",
      "|        325|\n",
      "+-----------+\n",
      "\n"
     ]
    }
   ],
   "source": [
    "#Somando a coluna 'vendas' com (sum)\n",
    "df.select(F.sum(\"vendas\")).show()"
   ]
  },
  {
   "cell_type": "code",
   "execution_count": 100,
   "id": "d33f79c7",
   "metadata": {
    "scrolled": true
   },
   "outputs": [
    {
     "data": {
      "text/plain": [
       "[Row(id=1, nome='Carminda Pestana', status='Ativo', cidade='Santa Maria', vendas=23, data=datetime.datetime(2020, 8, 11, 0, 0)),\n",
       " Row(id=2, nome='Deolinda Vilela', status='Ativo', cidade='Novo Hamburgo', vendas=34, data=datetime.datetime(2020, 3, 5, 0, 0)),\n",
       " Row(id=3, nome='Emídio Dornelles', status='Ativo', cidade='Porto Alegre', vendas=34, data=datetime.datetime(2020, 2, 5, 0, 0)),\n",
       " Row(id=4, nome='Felisbela Dornelles', status='Ativo', cidade='Porto Alegre', vendas=36, data=datetime.datetime(2020, 2, 5, 0, 0)),\n",
       " Row(id=5, nome='Graça Ornellas', status='Ativo', cidade='Porto Alegre', vendas=12, data=datetime.datetime(2020, 2, 5, 0, 0)),\n",
       " Row(id=6, nome='Matilde Rebouças', status='Ativo', cidade='Porto Alegre', vendas=22, data=datetime.datetime(2019, 1, 4, 23, 0)),\n",
       " Row(id=7, nome='Noêmia   Orriça', status='Ativo', cidade='Santa Maria', vendas=45, data=datetime.datetime(2019, 10, 5, 0, 0)),\n",
       " Row(id=8, nome='Roque Vásquez', status='Ativo', cidade='Porto Alegre', vendas=65, data=datetime.datetime(2020, 3, 5, 0, 0)),\n",
       " Row(id=9, nome='Uriel Queiroz', status='Ativo', cidade='Porto Alegre', vendas=54, data=datetime.datetime(2018, 5, 5, 0, 0)),\n",
       " Row(id=10, nome='Viviana Sequeira', status='Ativo', cidade='Porto Alegre', vendas=0, data=datetime.datetime(2020, 9, 5, 0, 0))]"
      ]
     },
     "execution_count": 100,
     "metadata": {},
     "output_type": "execute_result"
    }
   ],
   "source": [
    "#Ação herdata do RDD, vem em fomar de linhas \n",
    "df.collect()"
   ]
  },
  {
   "cell_type": "code",
   "execution_count": 101,
   "id": "99cec35f",
   "metadata": {},
   "outputs": [
    {
     "data": {
      "text/plain": [
       "10"
      ]
     },
     "execution_count": 101,
     "metadata": {},
     "output_type": "execute_result"
    }
   ],
   "source": [
    "#Conta a quantidades de linhas no Datafarme \n",
    "df.count()"
   ]
  },
  {
   "cell_type": "code",
   "execution_count": 110,
   "id": "57e0ff3e",
   "metadata": {},
   "outputs": [
    {
     "name": "stdout",
     "output_type": "stream",
     "text": [
      "+---+-------------------+------+-------------+------+-------------------+\n",
      "| id|               nome|status|       cidade|vendas|               data|\n",
      "+---+-------------------+------+-------------+------+-------------------+\n",
      "|  7|    Noêmia   Orriça| Ativo|  Santa Maria|    45|2019-10-05 00:00:00|\n",
      "|  1|   Carminda Pestana| Ativo|  Santa Maria|    23|2020-08-11 00:00:00|\n",
      "|  8|      Roque Vásquez| Ativo| Porto Alegre|    65|2020-03-05 00:00:00|\n",
      "|  9|      Uriel Queiroz| Ativo| Porto Alegre|    54|2018-05-05 00:00:00|\n",
      "|  4|Felisbela Dornelles| Ativo| Porto Alegre|    36|2020-02-05 00:00:00|\n",
      "|  3|   Emídio Dornelles| Ativo| Porto Alegre|    34|2020-02-05 00:00:00|\n",
      "|  6|   Matilde Rebouças| Ativo| Porto Alegre|    22|2019-01-05 00:00:00|\n",
      "|  5|     Graça Ornellas| Ativo| Porto Alegre|    12|2020-02-05 00:00:00|\n",
      "| 10|   Viviana Sequeira| Ativo| Porto Alegre|     0|2020-09-05 00:00:00|\n",
      "|  2|    Deolinda Vilela| Ativo|Novo Hamburgo|    34|2020-03-05 00:00:00|\n",
      "+---+-------------------+------+-------------+------+-------------------+\n",
      "\n"
     ]
    }
   ],
   "source": [
    "#Colocando em ordem o datafarme com as colunas ('cidade') e ('vendas')\n",
    "df.orderBy(F.col(\"cidade\").desc(),F.col('vendas').desc()).show()"
   ]
  },
  {
   "cell_type": "code",
   "execution_count": 138,
   "id": "81c03015",
   "metadata": {},
   "outputs": [
    {
     "name": "stdout",
     "output_type": "stream",
     "text": [
      "+-------------+-----------+\n",
      "|       cidade|sum(vendas)|\n",
      "+-------------+-----------+\n",
      "|  Santa Maria|         68|\n",
      "|Novo Hamburgo|         34|\n",
      "| Porto Alegre|        223|\n",
      "+-------------+-----------+\n",
      "\n"
     ]
    }
   ],
   "source": [
    "#agrupando cidades e somando as vendas \n",
    "df.groupBy(\"cidade\").agg(F.sum(\"vendas\")).show()"
   ]
  },
  {
   "cell_type": "code",
   "execution_count": 146,
   "id": "dd3c6a72",
   "metadata": {},
   "outputs": [
    {
     "name": "stdout",
     "output_type": "stream",
     "text": [
      "+-------------+-----------+\n",
      "|       cidade|sum(vendas)|\n",
      "+-------------+-----------+\n",
      "| Porto Alegre|        223|\n",
      "|  Santa Maria|         68|\n",
      "|Novo Hamburgo|         34|\n",
      "+-------------+-----------+\n",
      "\n"
     ]
    }
   ],
   "source": [
    "#agrupando cidades e somando as vendas, ordernando por descrecente\n",
    "df.groupBy(\"cidade\").agg(F.sum(\"vendas\")).orderBy(F.col('sum(vendas)').desc()).show()"
   ]
  },
  {
   "cell_type": "code",
   "execution_count": 147,
   "id": "6da2a3a6",
   "metadata": {},
   "outputs": [
    {
     "name": "stdout",
     "output_type": "stream",
     "text": [
      "+---+---------------+------+-------------+------+-------------------+\n",
      "| id|           nome|status|       cidade|vendas|               data|\n",
      "+---+---------------+------+-------------+------+-------------------+\n",
      "|  2|Deolinda Vilela| Ativo|Novo Hamburgo|    34|2020-03-05 00:00:00|\n",
      "+---+---------------+------+-------------+------+-------------------+\n",
      "\n"
     ]
    }
   ],
   "source": [
    "#filtrando a coluna 'nome'\n",
    "df.filter(F.col('nome') == 'Deolinda Vilela').show()"
   ]
  },
  {
   "cell_type": "code",
   "execution_count": 174,
   "id": "5bcb8947",
   "metadata": {},
   "outputs": [
    {
     "name": "stdout",
     "output_type": "stream",
     "text": [
      "+---+-------------------+------+-------------+------+----------+\n",
      "| id|               nome|status|       cidade|vendas|      data|\n",
      "+---+-------------------+------+-------------+------+----------+\n",
      "|  1|   Carminda Pestana| Ativo|  Santa Maria|    23|2020-08-11|\n",
      "|  2|    Deolinda Vilela| Ativo|Novo Hamburgo|    34|2020-03-05|\n",
      "|  3|   Emídio Dornelles| Ativo| Porto Alegre|    34|2020-02-05|\n",
      "|  4|Felisbela Dornelles| Ativo| Porto Alegre|    36|2020-02-05|\n",
      "|  5|     Graça Ornellas| Ativo| Porto Alegre|    12|2020-02-05|\n",
      "|  6|   Matilde Rebouças| Ativo| Porto Alegre|    22|2019-01-05|\n",
      "|  7|    Noêmia   Orriça| Ativo|  Santa Maria|    45|2019-10-05|\n",
      "|  8|      Roque Vásquez| Ativo| Porto Alegre|    65|2020-03-05|\n",
      "|  9|      Uriel Queiroz| Ativo| Porto Alegre|    54|2018-05-05|\n",
      "| 10|   Viviana Sequeira| Ativo| Porto Alegre|     0|2020-09-05|\n",
      "+---+-------------------+------+-------------+------+----------+\n",
      "\n"
     ]
    }
   ],
   "source": [
    "df.show()"
   ]
  },
  {
   "cell_type": "markdown",
   "id": "dd815f92",
   "metadata": {},
   "source": [
    "# Carregando a base do datafarme\n"
   ]
  },
  {
   "cell_type": "code",
   "execution_count": null,
   "id": "9e475bed",
   "metadata": {},
   "outputs": [],
   "source": [
    "df.write.format('parquet').save('parquet')"
   ]
  }
 ],
 "metadata": {
  "kernelspec": {
   "display_name": "Python 3 (ipykernel)",
   "language": "python",
   "name": "python3"
  },
  "language_info": {
   "codemirror_mode": {
    "name": "ipython",
    "version": 3
   },
   "file_extension": ".py",
   "mimetype": "text/x-python",
   "name": "python",
   "nbconvert_exporter": "python",
   "pygments_lexer": "ipython3",
   "version": "3.9.12"
  }
 },
 "nbformat": 4,
 "nbformat_minor": 5
}
