{
  "nbformat": 4,
  "nbformat_minor": 0,
  "metadata": {
    "colab": {
      "provenance": []
    },
    "kernelspec": {
      "name": "python3",
      "display_name": "Python 3"
    },
    "language_info": {
      "name": "python"
    }
  },
  "cells": [
    {
      "cell_type": "markdown",
      "source": [
        "Olá Sou Janatã Aruanda, Estou Aprendendo e treinando o spark, com essa atividade Spark com ML, irei deixar comentando e explicado cada célula \n"
      ],
      "metadata": {
        "id": "FYPSXvKlcJfj"
      }
    },
    {
      "cell_type": "markdown",
      "source": [
        "Montando o Ambiente no Colab"
      ],
      "metadata": {
        "id": "H8RPQeSihSMx"
      }
    },
    {
      "cell_type": "code",
      "execution_count": 35,
      "metadata": {
        "id": "pJoEbtLCRu_b"
      },
      "outputs": [],
      "source": [
        "# instalar as dependências\n",
        "# baixando a versão mais recente do java8;\n",
        "!apt-get install openjdk-8-jdk-headless -qq > /dev/null\n",
        "#download via stp do hadoop\n",
        "!wget -q https://dlcdn.apache.org/spark/spark-3.3.1/spark-3.3.1-bin-hadoop3.tgz\n",
        "#extraindo o arquivo tgz\n",
        "!tar xf /content/spark-3.3.1-bin-hadoop3.tgz\n",
        "#instalando o  Findspark que é responsavel para que as variáveis ​​do ambiente sejam definidas corretamente e o pyspark seja importado.\n",
        "!pip install -q findspark"
      ]
    },
    {
      "cell_type": "code",
      "source": [
        "import os\n",
        "os.environ[\"JAVA_HOME\"] = \"/usr/lib/jvm/java-8-openjdk-amd64\"\n",
        "\n",
        "os.environ[\"SPARK_HOME\"] = \"/content/spark-3.3.1-bin-hadoop3\"\n",
        "\n",
        "# utilizando o findspark para que o pyspark seja \"importável\"\n",
        "import findspark\n",
        "findspark.init('spark-3.3.1-bin-hadoop3')"
      ],
      "metadata": {
        "id": "N2o42532We74"
      },
      "execution_count": 36,
      "outputs": []
    },
    {
      "cell_type": "code",
      "source": [
        "#Importação da biblioteca ML\n",
        "from pyspark.ml.regression import LinearRegression, RandomForestRegressor\n",
        "from pyspark.ml.evaluation import RegressionEvaluator \n",
        "from pyspark.ml.feature import VectorAssembler"
      ],
      "metadata": {
        "id": "W2TbDk45ZWoB"
      },
      "execution_count": 37,
      "outputs": []
    },
    {
      "cell_type": "code",
      "source": [
        "#Importações para começar a sessão \n",
        "from pyspark.sql import SparkSession\n",
        "from pyspark.sql import functions as F\n",
        "spark = SparkSession.builder.getOrCreate()"
      ],
      "metadata": {
        "id": "KCItCvMHbqD8"
      },
      "execution_count": 38,
      "outputs": []
    },
    {
      "cell_type": "markdown",
      "source": [
        "Manipulação \n"
      ],
      "metadata": {
        "id": "pxO10JQtcSrh"
      }
    },
    {
      "cell_type": "code",
      "source": [
        "#carregando o arquivo \n",
        "Carros_temp = spark.read.csv(\"/content/base/Carros.csv\", inferSchema=True, header=True, sep=\";\")"
      ],
      "metadata": {
        "id": "bATLQJomZ-kD"
      },
      "execution_count": 39,
      "outputs": []
    },
    {
      "cell_type": "code",
      "source": [
        "#imprimindo a tabela carregado anteriomente\n",
        "Carros_temp.show(5)"
      ],
      "metadata": {
        "colab": {
          "base_uri": "https://localhost:8080/"
        },
        "id": "Z9qsUI2QhaMM",
        "outputId": "e018cdc7-debb-4c23-e51c-805b53f7c865"
      },
      "execution_count": 40,
      "outputs": [
        {
          "output_type": "stream",
          "name": "stdout",
          "text": [
            "+-------+---------+-----------+---------------+----+-----+---------+-----------+-------+-----------+---+\n",
            "|Consumo|Cilindros|Cilindradas|RelEixoTraseiro|Peso|Tempo|TipoMotor|Transmissao|Marchas|Carburadors| HP|\n",
            "+-------+---------+-----------+---------------+----+-----+---------+-----------+-------+-----------+---+\n",
            "|     21|        6|        160|             39| 262| 1646|        0|          1|      4|          4|110|\n",
            "|     21|        6|        160|             39|2875| 1702|        0|          1|      4|          4|110|\n",
            "|    228|        4|        108|            385| 232| 1861|        1|          1|      4|          1| 93|\n",
            "|    214|        6|        258|            308|3215| 1944|        1|          0|      3|          1|110|\n",
            "|    187|        8|        360|            315| 344| 1702|        0|          0|      3|          2|175|\n",
            "+-------+---------+-----------+---------------+----+-----+---------+-----------+-------+-----------+---+\n",
            "only showing top 5 rows\n",
            "\n"
          ]
        }
      ]
    },
    {
      "cell_type": "code",
      "source": [
        "#Criando uma varivel que ira receber essas colunas\n",
        "Carros = Carros_temp.select(F.col(\"Consumo\"), F.col(\"Cilindros\"), F.col(\"Cilindradas\"), F.col(\"HP\"))"
      ],
      "metadata": {
        "id": "A-O5y1d7hlkZ"
      },
      "execution_count": 41,
      "outputs": []
    },
    {
      "cell_type": "code",
      "source": [
        "#Imprimindo a tabela \n",
        "Carros.show(5)"
      ],
      "metadata": {
        "colab": {
          "base_uri": "https://localhost:8080/"
        },
        "id": "WA-lSJEKiDhM",
        "outputId": "9222d542-58ec-418d-f101-5db94753e6cb"
      },
      "execution_count": 25,
      "outputs": [
        {
          "output_type": "stream",
          "name": "stdout",
          "text": [
            "+-------+---------+-----------+---+\n",
            "|Consumo|Cilindros|Cilindradas| HP|\n",
            "+-------+---------+-----------+---+\n",
            "|     21|        6|        160|110|\n",
            "|     21|        6|        160|110|\n",
            "|    228|        4|        108| 93|\n",
            "|    214|        6|        258|110|\n",
            "|    187|        8|        360|175|\n",
            "+-------+---------+-----------+---+\n",
            "only showing top 5 rows\n",
            "\n"
          ]
        }
      ]
    },
    {
      "cell_type": "code",
      "source": [
        "#Transformando as colunas selcionada para criar uma nova coluna\n",
        "vec_caracteristicas = VectorAssembler(inputCols=[(\"Consumo\"),(\"Cilindros\"), (\"Cilindradas\")], outputCol=\"caracteristicas\")"
      ],
      "metadata": {
        "id": "SA9lHq02jksC"
      },
      "execution_count": 42,
      "outputs": []
    },
    {
      "cell_type": "code",
      "source": [
        "#jogando para a variavel e tranformando \n",
        "Carros = vec_caracteristicas.transform(Carros)"
      ],
      "metadata": {
        "id": "nYiNYy2dlc7c"
      },
      "execution_count": 43,
      "outputs": []
    },
    {
      "cell_type": "code",
      "source": [
        "#Imprimindo \n",
        "Carros.show(5)"
      ],
      "metadata": {
        "colab": {
          "base_uri": "https://localhost:8080/"
        },
        "id": "s-EXiwrJllzm",
        "outputId": "9c4e73c3-76e6-4b19-8727-3676a00cdcd5"
      },
      "execution_count": 48,
      "outputs": [
        {
          "output_type": "stream",
          "name": "stdout",
          "text": [
            "+-------+---------+-----------+---+-----------------+\n",
            "|Consumo|Cilindros|Cilindradas| HP|  caracteristicas|\n",
            "+-------+---------+-----------+---+-----------------+\n",
            "|     21|        6|        160|110| [21.0,6.0,160.0]|\n",
            "|     21|        6|        160|110| [21.0,6.0,160.0]|\n",
            "|    228|        4|        108| 93|[228.0,4.0,108.0]|\n",
            "|    214|        6|        258|110|[214.0,6.0,258.0]|\n",
            "|    187|        8|        360|175|[187.0,8.0,360.0]|\n",
            "+-------+---------+-----------+---+-----------------+\n",
            "only showing top 5 rows\n",
            "\n"
          ]
        }
      ]
    },
    {
      "cell_type": "code",
      "source": [
        "CarrosTreino, CarrosTeste = Carros.randomSplit([0.7,0.3])"
      ],
      "metadata": {
        "id": "cRDlNJDwnEC7"
      },
      "execution_count": 55,
      "outputs": []
    },
    {
      "cell_type": "code",
      "source": [
        "#Imprimindo a contagem \n",
        "print(CarrosTreino.count())\n",
        "print(CarrosTeste.count())\n"
      ],
      "metadata": {
        "colab": {
          "base_uri": "https://localhost:8080/"
        },
        "id": "LGhKejVGnFLA",
        "outputId": "bd29e271-ce9b-4a37-c7cd-8b8223998511"
      },
      "execution_count": 56,
      "outputs": [
        {
          "output_type": "stream",
          "name": "stdout",
          "text": [
            "20\n",
            "12\n"
          ]
        }
      ]
    },
    {
      "cell_type": "code",
      "source": [
        "reglin = LinearRegression(featuresCol=\"caracteristicas\", labelCol=\"HP\")\n",
        "modelo = reglin.fit(CarrosTreino)"
      ],
      "metadata": {
        "id": "j6Ny9eRZ5MAr"
      },
      "execution_count": 60,
      "outputs": []
    }
  ]
}